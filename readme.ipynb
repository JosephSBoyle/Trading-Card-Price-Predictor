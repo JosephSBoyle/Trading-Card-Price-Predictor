{
 "cells": [
  {
   "cell_type": "markdown",
   "metadata": {},
   "source": [
    "    \n",
    "## Trading Card Price Predictor\n",
    "\n",
    "### TCPP is a project aiming to generate buy/sell suggestions based on a machine learning model.\n",
    "\n",
    "This model is trained on data accumulated from the webscraper included in the project.\n",
    "\n",
    "The project is based off of a 2014 Stanford University paper [1] which demonstrated strong results predicting the price of Magic: The Gathering cards.\n",
    "\n",
    "1)http://cs229.stanford.edu/proj2014/Matt%20Pawlicki,%20Joe%20Polin,%20Jesse%20Zhang,%20Prediction%20of%20Price%20Increase%20for%20MTG%20Cards.pdf, accessed 08/24/2019  "
   ]
  }
 ],
 "metadata": {
  "kernelspec": {
   "display_name": "Python 3",
   "language": "python",
   "name": "python3"
  },
  "language_info": {
   "codemirror_mode": {
    "name": "ipython",
    "version": 3
   },
   "file_extension": ".py",
   "mimetype": "text/x-python",
   "name": "python",
   "nbconvert_exporter": "python",
   "pygments_lexer": "ipython3",
   "version": "3.6.3"
  }
 },
 "nbformat": 4,
 "nbformat_minor": 2
}
